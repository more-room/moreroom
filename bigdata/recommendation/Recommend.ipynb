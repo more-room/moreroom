{
 "cells": [
  {
   "cell_type": "code",
   "execution_count": 1,
   "id": "4ed6c140-d1bb-48e0-8778-4d17ec4530c1",
   "metadata": {},
   "outputs": [],
   "source": [
    "import pandas as pd\n",
    "import numpy as np"
   ]
  },
  {
   "cell_type": "markdown",
   "id": "3f08ec9d-b02c-4cf6-89d2-4c7596e823c4",
   "metadata": {},
   "source": [
    "## 데이터 로드"
   ]
  },
  {
   "cell_type": "code",
   "execution_count": 2,
   "id": "1e0ab2a9-c088-45b5-8821-fcced9070716",
   "metadata": {},
   "outputs": [],
   "source": [
    "path = 'C:/SSAFY/3_특화프로젝트/data/'"
   ]
  },
  {
   "cell_type": "code",
   "execution_count": 3,
   "id": "7a48295f-24e3-453b-b899-499e81780f0a",
   "metadata": {},
   "outputs": [],
   "source": [
    "theme_df = pd.read_csv(path+\"mr_theme.csv\", encoding='utf-8')\n",
    "tg_df = pd.read_csv(path+\"mr_themegenre.csv\", encoding='utf-8')"
   ]
  },
  {
   "cell_type": "markdown",
   "id": "4a93dbbc-6750-43ea-af98-ce61ac3fd1cb",
   "metadata": {},
   "source": [
    "## 최근 방문한 테마와 비슷한 테마 조회"
   ]
  },
  {
   "cell_type": "markdown",
   "id": "4a7eebca-df26-4f41-9b38-fd1e0f92bb57",
   "metadata": {},
   "source": [
    "### 로직\n",
    "\n",
    "1. 사용자 선택\n",
    "2. 사용자가 최근 방문한 테마 조회\n",
    "3. 메타 데이터를 기반으로 테마 유사도를 계산한다\n",
    "4. 유저 평점을 기반으로 테마 유사도를 계산한다\n",
    "5. 테마 N개를 추출한다\n",
    "6. DB 저장"
   ]
  },
  {
   "cell_type": "markdown",
   "id": "2bab3c7e-79f5-42e2-b377-05ec68a39f44",
   "metadata": {},
   "source": [
    "### 1. 사용자 선택"
   ]
  },
  {
   "cell_type": "markdown",
   "id": "ae091fd2-f7a8-4f61-979b-bb8f72767bdd",
   "metadata": {},
   "source": [
    "### 2. 사용자가 최근 방문한 테마 조회"
   ]
  },
  {
   "cell_type": "code",
   "execution_count": 4,
   "id": "c914ecd8-f4e0-41f8-aa98-33e481fa03a4",
   "metadata": {},
   "outputs": [],
   "source": [
    "def get_recent_theme(user):\n",
    "    return 1"
   ]
  },
  {
   "cell_type": "markdown",
   "id": "1fd78eba-989e-46af-819e-67b55766efde",
   "metadata": {},
   "source": [
    "### 3. 메타 데이터 기반 유사도 계산"
   ]
  },
  {
   "cell_type": "code",
   "execution_count": 5,
   "id": "b237b599-d5c4-413f-9cc2-9bca56bff6e4",
   "metadata": {
    "scrolled": true
   },
   "outputs": [],
   "source": [
    "import pandas as pd\n",
    "from sklearn.preprocessing import MinMaxScaler\n",
    "from sklearn.feature_extraction.text import CountVectorizer\n",
    "from sklearn.metrics.pairwise import cosine_similarity\n",
    "from sklearn.preprocessing import MultiLabelBinarizer\n",
    "import matplotlib.pyplot as plt\n",
    "import seaborn as sns"
   ]
  },
  {
   "cell_type": "markdown",
   "id": "5f3b9a12-f55b-4319-b2e8-557fcffc0462",
   "metadata": {},
   "source": [
    "#### 데이터 확인"
   ]
  },
  {
   "cell_type": "code",
   "execution_count": 6,
   "id": "50930250-984e-44a2-b5ce-950e425a5623",
   "metadata": {},
   "outputs": [
    {
     "data": {
      "text/html": [
       "<div>\n",
       "<style scoped>\n",
       "    .dataframe tbody tr th:only-of-type {\n",
       "        vertical-align: middle;\n",
       "    }\n",
       "\n",
       "    .dataframe tbody tr th {\n",
       "        vertical-align: top;\n",
       "    }\n",
       "\n",
       "    .dataframe thead th {\n",
       "        text-align: right;\n",
       "    }\n",
       "</style>\n",
       "<table border=\"1\" class=\"dataframe\">\n",
       "  <thead>\n",
       "    <tr style=\"text-align: right;\">\n",
       "      <th></th>\n",
       "      <th>themeId</th>\n",
       "      <th>cafeId</th>\n",
       "      <th>poster</th>\n",
       "      <th>title</th>\n",
       "      <th>playtime</th>\n",
       "      <th>minPeople</th>\n",
       "      <th>maxPeople</th>\n",
       "      <th>level</th>\n",
       "      <th>tmpGenre</th>\n",
       "      <th>price</th>\n",
       "      <th>description</th>\n",
       "      <th>problemScore</th>\n",
       "      <th>storyScore</th>\n",
       "      <th>activityScore</th>\n",
       "      <th>fearScore</th>\n",
       "    </tr>\n",
       "  </thead>\n",
       "  <tbody>\n",
       "    <tr>\n",
       "      <th>0</th>\n",
       "      <td>1</td>\n",
       "      <td>176</td>\n",
       "      <td>https://cdn.keigon.net/개꿀이스케이프/thumb_탈옥</td>\n",
       "      <td>탈옥</td>\n",
       "      <td>50</td>\n",
       "      <td>2</td>\n",
       "      <td>8</td>\n",
       "      <td>3.0</td>\n",
       "      <td>액션 범죄</td>\n",
       "      <td>11000</td>\n",
       "      <td>평범한 한국사람, 푸에르트 로엘.\\n어쩌다보니(?) 감옥에 갇혀버리고..\\n\"내가 ...</td>\n",
       "      <td>3.8</td>\n",
       "      <td>3.285714</td>\n",
       "      <td>0.272727</td>\n",
       "      <td>0.0</td>\n",
       "    </tr>\n",
       "  </tbody>\n",
       "</table>\n",
       "</div>"
      ],
      "text/plain": [
       "   themeId  cafeId                                   poster title  playtime  \\\n",
       "0        1     176  https://cdn.keigon.net/개꿀이스케이프/thumb_탈옥    탈옥        50   \n",
       "\n",
       "   minPeople  maxPeople  level tmpGenre  price  \\\n",
       "0          2          8    3.0    액션 범죄  11000   \n",
       "\n",
       "                                         description  problemScore  \\\n",
       "0  평범한 한국사람, 푸에르트 로엘.\\n어쩌다보니(?) 감옥에 갇혀버리고..\\n\"내가 ...           3.8   \n",
       "\n",
       "   storyScore  activityScore  fearScore  \n",
       "0    3.285714       0.272727        0.0  "
      ]
     },
     "execution_count": 6,
     "metadata": {},
     "output_type": "execute_result"
    }
   ],
   "source": [
    "theme_df.head(1)"
   ]
  },
  {
   "cell_type": "markdown",
   "id": "4c04c44a-99ca-475c-a2c4-eb447a0e8098",
   "metadata": {},
   "source": [
    "#### 데이터 전처리"
   ]
  },
  {
   "cell_type": "markdown",
   "id": "06d2f298-34c8-4586-b92e-b8c01c3c89cf",
   "metadata": {},
   "source": [
    "- 각 열마다 최솟값과 최댓값이 다르기 때문에, Min-Max Scaling을 거쳐 정규화 해준다\n",
    "- 장르는 다중 값을 가지기 때문에, 원-핫 인코딩을 이용해 벡터화한다 -> 다른 열들은 0~1의 값으로 정규화했기 때문에, 0,1이라는 장르 값이 들어가면 너무 가중될 것 같고, 값이 달라질 것 같음 => 별도 모델로 진행"
   ]
  },
  {
   "cell_type": "code",
   "execution_count": 20,
   "id": "7d16542a-a4d4-4144-9c1c-146492a53f5d",
   "metadata": {},
   "outputs": [],
   "source": [
    "target_features = [ 'level', 'problemScore', 'storyScore', 'activityScore', 'fearScore'] \n",
    "g_features = ['genre']"
   ]
  },
  {
   "cell_type": "markdown",
   "id": "a6d86a30-8b9d-40ba-9c1d-c02e13ea6307",
   "metadata": {},
   "source": [
    "##### Min-Max Scaling"
   ]
  },
  {
   "cell_type": "code",
   "execution_count": 21,
   "id": "3a158e0b-cb25-412b-97d4-2ca0db4cd018",
   "metadata": {},
   "outputs": [],
   "source": [
    "# Min-Max Scaling\n",
    "scaler = MinMaxScaler()\n",
    "scaled_features = scaler.fit_transform(theme_df[target_features])"
   ]
  },
  {
   "cell_type": "markdown",
   "id": "4636df28-c0de-405c-ab7a-0774a959956f",
   "metadata": {},
   "source": [
    "##### 장르 벡터화"
   ]
  },
  {
   "cell_type": "code",
   "execution_count": 22,
   "id": "ca1dee7f-a145-43b4-81dd-10d4ba9f0add",
   "metadata": {},
   "outputs": [],
   "source": [
    "# 테마 별로 장르 집계\n",
    "grouped_genres = tg_df.groupby('themeId')['genreId'].apply(list).reset_index()"
   ]
  },
  {
   "cell_type": "code",
   "execution_count": 23,
   "id": "926ec520-6fad-4ee5-8bf2-a32d601f3da1",
   "metadata": {},
   "outputs": [
    {
     "data": {
      "text/plain": [
       "array([[0, 0, 0, ..., 0, 0, 0],\n",
       "       [0, 0, 0, ..., 0, 0, 0],\n",
       "       [0, 0, 0, ..., 0, 0, 0],\n",
       "       ...,\n",
       "       [0, 0, 0, ..., 0, 0, 0],\n",
       "       [0, 0, 0, ..., 1, 0, 0],\n",
       "       [0, 0, 1, ..., 0, 0, 0]])"
      ]
     },
     "execution_count": 23,
     "metadata": {},
     "output_type": "execute_result"
    }
   ],
   "source": [
    "# 원-핫 인코딩을 위해 MultiLabelBinarizer 사용\n",
    "mlb = MultiLabelBinarizer()\n",
    "encoded_genres = mlb.fit_transform(grouped_genres['genreId'])\n",
    "encoded_genres"
   ]
  },
  {
   "cell_type": "markdown",
   "id": "c418fab9-79bf-4712-ba78-e9fd96b8361b",
   "metadata": {},
   "source": [
    "#### 유사도 계산"
   ]
  },
  {
   "cell_type": "code",
   "execution_count": 67,
   "id": "6b2eb360-b50e-4829-babe-01a062096b44",
   "metadata": {},
   "outputs": [],
   "source": [
    "# 가중치\n",
    "normal_per = 0.2\n",
    "genre_per = 0.8"
   ]
  },
  {
   "cell_type": "markdown",
   "id": "ec1bcaaf-4ac0-4136-81d6-b31843b8c80e",
   "metadata": {},
   "source": [
    "##### 일반 데이터"
   ]
  },
  {
   "cell_type": "code",
   "execution_count": 68,
   "id": "3f9cee66-ef99-43c0-a7e7-2a0f9af20d92",
   "metadata": {},
   "outputs": [],
   "source": [
    "similarity_normal = cosine_similarity(scaled_features)"
   ]
  },
  {
   "cell_type": "markdown",
   "id": "80fbadd2-131a-4575-ba07-63112819279d",
   "metadata": {},
   "source": [
    "##### 장르 "
   ]
  },
  {
   "cell_type": "code",
   "execution_count": 69,
   "id": "e4ec0cb5-9921-4180-9692-d14d8b389048",
   "metadata": {},
   "outputs": [],
   "source": [
    "similarity_genre = cosine_similarity(encoded_genres)"
   ]
  },
  {
   "cell_type": "code",
   "execution_count": 70,
   "id": "55afa6d5-9dd3-4af0-9cc1-2334973a7de3",
   "metadata": {},
   "outputs": [],
   "source": [
    "final_similarity = similarity_normal*normal_per + similarity_genre*genre_per"
   ]
  },
  {
   "cell_type": "code",
   "execution_count": 71,
   "id": "1030999f-aabf-48ba-9060-8302b4dbfd2e",
   "metadata": {},
   "outputs": [
    {
     "data": {
      "image/png": "[encoded data removed]",
      "text/plain": [
       "<Figure size 640x480 with 2 Axes>"
      ]
     },
     "metadata": {},
     "output_type": "display_data"
    }
   ],
   "source": [
    "#sns.heatmap(similarity[:100, :100], xticklabels=theme_df['themeId'][:100], yticklabels=theme_df['themeId'][:100], cmap='ocean')\n",
    "sns.heatmap(final_similarity[:10,:10], xticklabels=theme_df['themeId'][:10], yticklabels=theme_df['themeId'][:10], cmap='Purples')\n",
    "\n",
    "plt.show()"
   ]
  },
  {
   "cell_type": "markdown",
   "id": "a9cd08ce-f8df-4a97-b02c-adb338cb6e93",
   "metadata": {},
   "source": [
    "#### 테스트"
   ]
  },
  {
   "cell_type": "code",
   "execution_count": 75,
   "id": "167fa260-7bec-45b5-9438-5893a5af4f12",
   "metadata": {},
   "outputs": [],
   "source": [
    "targetThemeId = 46"
   ]
  },
  {
   "cell_type": "code",
   "execution_count": 76,
   "id": "528bcf1b-44a6-424f-a618-86ba245cfeb8",
   "metadata": {},
   "outputs": [],
   "source": [
    "target_similarity = final_similarity[targetThemeId]\n",
    "top_10_themes = np.argsort(-target_similarity)[:11]\n",
    "top_10_themes = [idx for idx in top_10_themes if idx != targetThemeId]"
   ]
  },
  {
   "cell_type": "code",
   "execution_count": 77,
   "id": "4cc7b252-e99f-491e-8deb-2a3e32f97c0c",
   "metadata": {},
   "outputs": [
    {
     "name": "stdout",
     "output_type": "stream",
     "text": [
      "대상 => ID: 46, 제목: 여신강림\n",
      "상위 10개의 유사한 항목:\n",
      "ID: 294, 제목: 파란지붕집, 유사도: 0.9998820397230774\n",
      "ID: 952, 제목: 파라오의 석실, 유사도: 0.9995563470560933\n",
      "ID: 1110, 제목: 냥이강쥐의 대모험, 유사도: 0.9993445717568555\n",
      "ID: 696, 제목: 재즈 인 더 레인, 유사도: 0.9992689067432667\n",
      "ID: 141, 제목: 리플레이, 유사도: 0.9991355692368172\n",
      "ID: 766, 제목: 무한의 던전, 유사도: 0.9990728857872495\n",
      "ID: 1288, 제목: 이상한 나라의 초대, 유사도: 0.9988895611777124\n",
      "ID: 747, 제목: 지프리트의 심장, 유사도: 0.9988394323456091\n",
      "ID: 1227, 제목: 수상한 병원, 유사도: 0.9988073621046352\n",
      "ID: 254, 제목: 타짜, 유사도: 0.9988039276395867\n"
     ]
    }
   ],
   "source": [
    "# 결과 출력\n",
    "top_10_similar_items = [(index, target_similarity[index]) for index in top_10_themes]\n",
    "theme_title = theme_df.loc[targetThemeId-1, 'title']\n",
    "print(f\"대상 => ID: {targetThemeId}, 제목: {theme_title}\")\n",
    "print(\"상위 10개의 유사한 항목:\")\n",
    "for idx, sim in top_10_similar_items:\n",
    "    theme_title = theme_df.loc[idx-1, 'title']\n",
    "    print(f\"ID: {idx}, 제목: {theme_title}, 유사도: {sim}\")"
   ]
  },
  {
   "cell_type": "markdown",
   "id": "71f74e19-3e6c-49de-a5d5-837535da5504",
   "metadata": {},
   "source": [
    "### 4. 유저 평점 기반 유사도 계산"
   ]
  },
  {
   "cell_type": "markdown",
   "id": "2ae05c2c-bff7-4b4a-80a7-4b2e085b588c",
   "metadata": {},
   "source": [
    "### 5. 테마 N개 추출"
   ]
  }
 ],
 "metadata": {
  "kernelspec": {
   "display_name": "jupyter_kernel",
   "language": "python",
   "name": "jupyter_evn"
  },
  "language_info": {
   "codemirror_mode": {
    "name": "ipython",
    "version": 3
   },
   "file_extension": ".py",
   "mimetype": "text/x-python",
   "name": "python",
   "nbconvert_exporter": "python",
   "pygments_lexer": "ipython3",
   "version": "3.12.4"
  }
 },
 "nbformat": 4,
 "nbformat_minor": 5
}
